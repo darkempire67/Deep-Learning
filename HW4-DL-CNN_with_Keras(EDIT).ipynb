{
 "cells": [
  {
   "cell_type": "markdown",
   "metadata": {},
   "source": [
    "# Advanced Topics in Data Science (CS5661). Cal State Univ. LA, CS Dept.\n",
    "### Dr. Mohammad Porhoumayoun\n",
    "----------------------------------------------------------------------------------------------\n",
    "----------------------------------------------------------------------------------------------"
   ]
  },
  {
   "cell_type": "markdown",
   "metadata": {},
   "source": [
    "## Deep Convolutional Neural Networks (CNN) with Keras + TensorFlow\n",
    "----------------------------------------------------------------------------------------------\n",
    "----------------------------------------------------------------------------------------------"
   ]
  },
  {
   "cell_type": "code",
   "execution_count": null,
   "metadata": {
    "collapsed": true
   },
   "outputs": [],
   "source": []
  },
  {
   "cell_type": "code",
   "execution_count": 1,
   "metadata": {},
   "outputs": [
    {
     "name": "stderr",
     "output_type": "stream",
     "text": [
      "/anaconda3/lib/python3.6/site-packages/h5py/__init__.py:36: FutureWarning: Conversion of the second argument of issubdtype from `float` to `np.floating` is deprecated. In future, it will be treated as `np.float64 == np.dtype(float).type`.\n",
      "  from ._conv import register_converters as _register_converters\n",
      "Using TensorFlow backend.\n"
     ]
    }
   ],
   "source": [
    "\n",
    "# \"Sequential\" model lets us to define a stack of neural network layers\n",
    "from keras.models import Sequential\n",
    "\n",
    "# import the \"core\" layers:\n",
    "from keras.layers import Dense, Dropout, Activation, Flatten\n",
    "\n",
    "# CNN\n",
    "from keras.layers import Convolution2D, MaxPooling2D\n",
    "\n",
    "# import some utilities to transform our data\n",
    "from keras.utils import np_utils\n",
    "\n",
    "import numpy as np"
   ]
  },
  {
   "cell_type": "markdown",
   "metadata": {},
   "source": [
    "## Let's use the Fashion-MNIST Dataset including 60,000 28x28 grayscale images of 10 fashion categories, along with a test set of 10,000 images:\n",
    "\n",
    "0:\tT-shirt/top, \n",
    "1:\tTrouser,\n",
    "2:\tPullover,\n",
    "3:\tDress,\n",
    "4:\tCoat,\n",
    "5:\tSandal,\n",
    "6:\tShirt,\n",
    "7:\tSneaker,\n",
    "8:\tBag,\n",
    "9:\tAnkle boot "
   ]
  },
  {
   "cell_type": "code",
   "execution_count": 2,
   "metadata": {},
   "outputs": [
    {
     "name": "stdout",
     "output_type": "stream",
     "text": [
      "Downloading data from http://fashion-mnist.s3-website.eu-central-1.amazonaws.com/train-labels-idx1-ubyte.gz\n",
      "32768/29515 [=================================] - 0s 3us/step\n",
      "Downloading data from http://fashion-mnist.s3-website.eu-central-1.amazonaws.com/train-images-idx3-ubyte.gz\n",
      "26427392/26421880 [==============================] - 229s 9us/step\n",
      "Downloading data from http://fashion-mnist.s3-website.eu-central-1.amazonaws.com/t10k-labels-idx1-ubyte.gz\n",
      "8192/5148 [===============================================] - 0s 0us/step\n",
      "Downloading data from http://fashion-mnist.s3-website.eu-central-1.amazonaws.com/t10k-images-idx3-ubyte.gz\n",
      "4423680/4422102 [==============================] - 33s 7us/step\n"
     ]
    }
   ],
   "source": [
    "# Keras will download MNIST dataset for us:\n",
    "from keras.datasets import fashion_mnist\n",
    " \n",
    "# By default, the first 60k of MNIST has been defined as training and the rest as testing set: \n",
    "(X_train, y_train), (X_test, y_test) = fashion_mnist.load_data()"
   ]
  },
  {
   "cell_type": "code",
   "execution_count": 3,
   "metadata": {},
   "outputs": [
    {
     "name": "stdout",
     "output_type": "stream",
     "text": [
      "(60000, 28, 28)\n",
      "(10000, 28, 28)\n"
     ]
    }
   ],
   "source": [
    "print(X_train.shape)\n",
    "print(X_test.shape)"
   ]
  },
  {
   "cell_type": "code",
   "execution_count": 4,
   "metadata": {},
   "outputs": [
    {
     "data": {
      "image/png": "[encoded data removed]",
      "text/plain": [
       "<Figure size 432x288 with 1 Axes>"
      ]
     },
     "metadata": {},
     "output_type": "display_data"
    },
    {
     "data": {
      "image/png": "[encoded data removed]",
      "text/plain": [
       "<Figure size 432x288 with 1 Axes>"
      ]
     },
     "metadata": {},
     "output_type": "display_data"
    },
    {
     "data": {
      "image/png": "[encoded data removed]",
      "text/plain": [
       "<Figure size 432x288 with 1 Axes>"
      ]
     },
     "metadata": {},
     "output_type": "display_data"
    },
    {
     "data": {
      "image/png": "[encoded data removed]",
      "text/plain": [
       "<Figure size 432x288 with 1 Axes>"
      ]
     },
     "metadata": {},
     "output_type": "display_data"
    }
   ],
   "source": [
    "%matplotlib inline\n",
    "\n",
    "import matplotlib.image as mpimg\n",
    "import matplotlib.pyplot as plt\n",
    "\n",
    "imgplot = plt.imshow(X_train[3,:,:],cmap='viridis')\n",
    "plt.show()\n",
    "imgplot = plt.imshow(X_train[16,:,:],cmap='viridis')\n",
    "plt.show()\n",
    "imgplot = plt.imshow(X_train[1,:,:],cmap='plasma')\n",
    "plt.show()\n",
    "imgplot = plt.imshow(X_train[9,:,:],cmap='magma')\n",
    "plt.show()"
   ]
  },
  {
   "cell_type": "code",
   "execution_count": 5,
   "metadata": {},
   "outputs": [],
   "source": [
    "X_train = X_train.reshape(X_train.shape[0], 28, 28, 1)\n",
    "X_test = X_test.reshape(X_test.shape[0], 28, 28, 1)"
   ]
  },
  {
   "cell_type": "code",
   "execution_count": 6,
   "metadata": {},
   "outputs": [
    {
     "name": "stdout",
     "output_type": "stream",
     "text": [
      "(60000, 28, 28, 1)\n",
      "(10000, 28, 28, 1)\n"
     ]
    }
   ],
   "source": [
    "print(X_train.shape)\n",
    "print(X_test.shape)"
   ]
  },
  {
   "cell_type": "code",
   "execution_count": 7,
   "metadata": {},
   "outputs": [],
   "source": [
    "# simply normalize the features to the range of [0,1]:\n",
    "X_train = X_train.astype('float32')\n",
    "X_test = X_test.astype('float32')\n",
    "X_train /= 255\n",
    "X_test /= 255"
   ]
  },
  {
   "cell_type": "code",
   "execution_count": 8,
   "metadata": {},
   "outputs": [
    {
     "name": "stdout",
     "output_type": "stream",
     "text": [
      "(60000,)\n",
      "[9 0 0 3 0 2 7 2 5 5]\n"
     ]
    }
   ],
   "source": [
    "# output label:\n",
    "print (y_train.shape)\n",
    "print (y_train[:10])"
   ]
  },
  {
   "cell_type": "code",
   "execution_count": 9,
   "metadata": {},
   "outputs": [],
   "source": [
    "# OneHotEncoding for the output label:\n",
    "y_train = np_utils.to_categorical(y_train, 10)\n",
    "y_test = np_utils.to_categorical(y_test, 10)\n"
   ]
  },
  {
   "cell_type": "code",
   "execution_count": 10,
   "metadata": {},
   "outputs": [
    {
     "name": "stdout",
     "output_type": "stream",
     "text": [
      "(60000, 10)\n",
      "[[0. 0. 0. 0. 0. 0. 0. 0. 0. 1.]\n",
      " [1. 0. 0. 0. 0. 0. 0. 0. 0. 0.]\n",
      " [1. 0. 0. 0. 0. 0. 0. 0. 0. 0.]\n",
      " [0. 0. 0. 1. 0. 0. 0. 0. 0. 0.]\n",
      " [1. 0. 0. 0. 0. 0. 0. 0. 0. 0.]\n",
      " [0. 0. 1. 0. 0. 0. 0. 0. 0. 0.]\n",
      " [0. 0. 0. 0. 0. 0. 0. 1. 0. 0.]\n",
      " [0. 0. 1. 0. 0. 0. 0. 0. 0. 0.]\n",
      " [0. 0. 0. 0. 0. 1. 0. 0. 0. 0.]\n",
      " [0. 0. 0. 0. 0. 1. 0. 0. 0. 0.]]\n"
     ]
    }
   ],
   "source": [
    "# Label after OneHotEncoding:\n",
    "print (y_train.shape)\n",
    "print (y_train[:10])"
   ]
  },
  {
   "cell_type": "markdown",
   "metadata": {},
   "source": [
    "## Define the Network Architecture (model):"
   ]
  },
  {
   "cell_type": "code",
   "execution_count": 1091,
   "metadata": {},
   "outputs": [],
   "source": [
    "# Declare Sequential model fro our network:\n",
    "model = Sequential()"
   ]
  },
  {
   "cell_type": "code",
   "execution_count": 1092,
   "metadata": {},
   "outputs": [
    {
     "name": "stdout",
     "output_type": "stream",
     "text": [
      "(None, 26, 26, 32)\n"
     ]
    }
   ],
   "source": [
    "# CNN first layer (with 32 3x3 filter):\n",
    "model.add(Convolution2D(32, (3, 3),activation='relu', input_shape=(28,28,1)))\n",
    "print(model.output_shape) # -> (None, 26, 26, 32)\n",
    "\n",
    "# If your image batch is of N images of HxW size with C channels: \n",
    "# theano uses the NCHW ordering while tensorflow uses the NHWC ordering."
   ]
  },
  {
   "cell_type": "code",
   "execution_count": 1093,
   "metadata": {},
   "outputs": [
    {
     "name": "stdout",
     "output_type": "stream",
     "text": [
      "(None, 26, 26, 32)\n",
      "(None, 13, 13, 32)\n",
      "(None, 7, 7, 32)\n",
      "(None, 3, 3, 32)\n"
     ]
    }
   ],
   "source": [
    "# more hidden layers:\n",
    "model.add(Convolution2D(32, (3, 3),padding=\"same\", activation='relu'))\n",
    "print(model.output_shape)\n",
    "\n",
    "# Pooling Layer:\n",
    "model.add(MaxPooling2D(pool_size=(2,2)))\n",
    "print(model.output_shape)\n",
    "\n",
    "\n",
    "#=========================================\n",
    "#***************************************\n",
    "#  Regularizers ==>\n",
    "# Regularizers allow to apply penalties on layer parameters or \n",
    "# layer activity during optimization. These penalties are \n",
    "# incorporated in the loss function that the network optimizes.\n",
    "\n",
    "from keras import regularizers\n",
    "\n",
    "\n",
    "\n",
    "# more hidden layers:\n",
    "\n",
    "\n",
    "\n",
    "\n",
    "model.add(Convolution2D(32, (3 ,3), strides=2,activation='relu',padding=\"same\"))\n",
    "print(model.output_shape)\n",
    "\n",
    "\n",
    "\n",
    "# Pooling Layer:\n",
    "model.add(MaxPooling2D(pool_size=(2,2)))\n",
    "print(model.output_shape)\n",
    "\n",
    "#***************************************\n",
    "#=========================================\n",
    "\n",
    "\n",
    "# Dropout layer to avoid overfitting\n",
    "model.add(Dropout(0.25)) \n"
   ]
  },
  {
   "cell_type": "code",
   "execution_count": 1094,
   "metadata": {},
   "outputs": [
    {
     "name": "stdout",
     "output_type": "stream",
     "text": [
      "(None, 288)\n",
      "(None, 128)\n",
      "(None, 128)\n",
      "(None, 128)\n",
      "(None, 10)\n"
     ]
    }
   ],
   "source": [
    "# output Fully connected Dense layers:\n",
    "model.add(Flatten())\n",
    "print(model.output_shape)\n",
    "\n",
    "model.add(Dense(128, activation='relu'))\n",
    "print(model.output_shape)\n",
    "\n",
    "\n",
    "\n",
    "model.add(Dense(128, activation='relu'))\n",
    "print(model.output_shape)\n",
    "\n",
    "model.add(Dense(128, activation='relu'))\n",
    "print(model.output_shape)\n",
    "\n",
    "model.add(Dropout(0.5))\n",
    "model.add(Dense(10, activation='softmax'))\n",
    "print(model.output_shape)"
   ]
  },
  {
   "cell_type": "markdown",
   "metadata": {},
   "source": [
    "## Compile the model:\n",
    "#### We need to compile the model and then it will be ready to train it:"
   ]
  },
  {
   "cell_type": "code",
   "execution_count": 1095,
   "metadata": {},
   "outputs": [
    {
     "name": "stdout",
     "output_type": "stream",
     "text": [
      "_________________________________________________________________\n",
      "Layer (type)                 Output Shape              Param #   \n",
      "=================================================================\n",
      "conv2d_683 (Conv2D)          (None, 26, 26, 32)        320       \n",
      "_________________________________________________________________\n",
      "conv2d_684 (Conv2D)          (None, 26, 26, 32)        9248      \n",
      "_________________________________________________________________\n",
      "max_pooling2d_280 (MaxPoolin (None, 13, 13, 32)        0         \n",
      "_________________________________________________________________\n",
      "conv2d_685 (Conv2D)          (None, 7, 7, 32)          9248      \n",
      "_________________________________________________________________\n",
      "max_pooling2d_281 (MaxPoolin (None, 3, 3, 32)          0         \n",
      "_________________________________________________________________\n",
      "dropout_214 (Dropout)        (None, 3, 3, 32)          0         \n",
      "_________________________________________________________________\n",
      "flatten_147 (Flatten)        (None, 288)               0         \n",
      "_________________________________________________________________\n",
      "dense_409 (Dense)            (None, 128)               36992     \n",
      "_________________________________________________________________\n",
      "dense_410 (Dense)            (None, 128)               16512     \n",
      "_________________________________________________________________\n",
      "dense_411 (Dense)            (None, 128)               16512     \n",
      "_________________________________________________________________\n",
      "dropout_215 (Dropout)        (None, 128)               0         \n",
      "_________________________________________________________________\n",
      "dense_412 (Dense)            (None, 10)                1290      \n",
      "=================================================================\n",
      "Total params: 90,122\n",
      "Trainable params: 90,122\n",
      "Non-trainable params: 0\n",
      "_________________________________________________________________\n",
      "None\n"
     ]
    }
   ],
   "source": [
    "model.compile(loss='categorical_crossentropy',metrics=['accuracy'],\n",
    "              optimizer='adam')\n",
    "# more info about loss functions: https://keras.io/losses\n",
    "# more infor about Optimizers: https://keras.io/optimizers\n",
    "\n",
    "print(model.summary())"
   ]
  },
  {
   "cell_type": "markdown",
   "metadata": {},
   "source": [
    "## Training:"
   ]
  },
  {
   "cell_type": "code",
   "execution_count": 1096,
   "metadata": {},
   "outputs": [],
   "source": [
    "#================================================\n",
    "#***************************************\n",
    "\n",
    "\n",
    "# reducing learnig rate when it starts to plateau by 1/10\n",
    "\n",
    "\n",
    "from tensorflow.keras.callbacks import EarlyStopping\n",
    "from tensorflow.keras.callbacks import ReduceLROnPlateau\n",
    "\n",
    "\n",
    "es = EarlyStopping(monitor='loss', mode='min', verbose=1,patience=0)\n",
    "\n",
    "reduce_lr = ReduceLROnPlateau(monitor='loss', factor=0.9,\n",
    "                              patience=0, min_lr=0.001)\n",
    "\n",
    "\n",
    "#***************************************\n",
    "\n",
    "#================================================\n",
    "from tensorflow.python import keras\n",
    "keras.backend.get_session().run(tf.global_variables_initializer())\n",
    "\n",
    "\n"
   ]
  },
  {
   "cell_type": "code",
   "execution_count": 1097,
   "metadata": {
    "scrolled": false
   },
   "outputs": [
    {
     "name": "stdout",
     "output_type": "stream",
     "text": [
      "Epoch 1/40\n",
      "60000/60000 [==============================] - 240s 4ms/step - loss: 0.6366 - acc: 0.7679\n",
      "Epoch 2/40\n",
      "60000/60000 [==============================] - 171s 3ms/step - loss: 0.4143 - acc: 0.8497\n",
      "Epoch 3/40\n",
      "60000/60000 [==============================] - 168s 3ms/step - loss: 0.3556 - acc: 0.8710\n",
      "Epoch 4/40\n",
      "60000/60000 [==============================] - 169s 3ms/step - loss: 0.3243 - acc: 0.8833\n",
      "Epoch 5/40\n",
      "60000/60000 [==============================] - 169s 3ms/step - loss: 0.2985 - acc: 0.8917\n",
      "Epoch 6/40\n",
      "60000/60000 [==============================] - 169s 3ms/step - loss: 0.2791 - acc: 0.8982\n",
      "Epoch 7/40\n",
      "60000/60000 [==============================] - 169s 3ms/step - loss: 0.2713 - acc: 0.9013\n",
      "Epoch 8/40\n",
      "60000/60000 [==============================] - 169s 3ms/step - loss: 0.2576 - acc: 0.9066\n",
      "Epoch 9/40\n",
      "60000/60000 [==============================] - 170s 3ms/step - loss: 0.2493 - acc: 0.9088\n",
      "Epoch 10/40\n",
      "60000/60000 [==============================] - 170s 3ms/step - loss: 0.2440 - acc: 0.9127\n",
      "Epoch 11/40\n",
      "60000/60000 [==============================] - 169s 3ms/step - loss: 0.2351 - acc: 0.9141\n",
      "Epoch 12/40\n",
      "60000/60000 [==============================] - 170s 3ms/step - loss: 0.2309 - acc: 0.9153\n",
      "Epoch 13/40\n",
      "60000/60000 [==============================] - 170s 3ms/step - loss: 0.2269 - acc: 0.9186\n",
      "Epoch 14/40\n",
      "60000/60000 [==============================] - 170s 3ms/step - loss: 0.2203 - acc: 0.9185\n",
      "Epoch 15/40\n",
      "60000/60000 [==============================] - 170s 3ms/step - loss: 0.2158 - acc: 0.9213\n",
      "Epoch 16/40\n",
      "60000/60000 [==============================] - 171s 3ms/step - loss: 0.2110 - acc: 0.9219\n",
      "Epoch 17/40\n",
      "60000/60000 [==============================] - 171s 3ms/step - loss: 0.2098 - acc: 0.9223\n",
      "Epoch 18/40\n",
      "60000/60000 [==============================] - 171s 3ms/step - loss: 0.2058 - acc: 0.9236\n",
      "Epoch 19/40\n",
      "60000/60000 [==============================] - 171s 3ms/step - loss: 0.2025 - acc: 0.9247\n",
      "Epoch 20/40\n",
      "60000/60000 [==============================] - 171s 3ms/step - loss: 0.1997 - acc: 0.9264\n",
      "Epoch 21/40\n",
      "60000/60000 [==============================] - 171s 3ms/step - loss: 0.1966 - acc: 0.9278\n",
      "Epoch 22/40\n",
      "60000/60000 [==============================] - 171s 3ms/step - loss: 0.1938 - acc: 0.9291\n",
      "Epoch 23/40\n",
      "60000/60000 [==============================] - 171s 3ms/step - loss: 0.1923 - acc: 0.9311\n",
      "Epoch 24/40\n",
      "60000/60000 [==============================] - 170s 3ms/step - loss: 0.1869 - acc: 0.9317\n",
      "Epoch 25/40\n",
      "60000/60000 [==============================] - 171s 3ms/step - loss: 0.1869 - acc: 0.9303\n",
      "Epoch 00025: early stopping\n"
     ]
    }
   ],
   "source": [
    "history = model.fit(X_train, y_train, batch_size=32, epochs=40, verbose=1,callbacks =[es,reduce_lr])\n",
    "# history = model.fit(X_train, y_train, validation_split=0.25, batch_size=32, epochs=15, verbose=1)\n",
    "\n",
    "# batch_size: Integer or None. Number of samples per gradient update. \n",
    "# epochs: Number of iteration over the entire x and y data provided. \n",
    "# verbose: 0, 1, or 2. how want to see the training progress. 0 = silent, 1 = progress bar, 2 = one line per epoch.\n",
    "# validation_split: Float between 0 and 1. Fraction of the training data to be used as validation data. \n",
    "# You can add some callbacks to get a view on internal states and statistics of the model during training:\n",
    "# https://keras.io/callbacks/     "
   ]
  },
  {
   "cell_type": "code",
   "execution_count": 1098,
   "metadata": {},
   "outputs": [],
   "source": [
    "# Training with Validation:\n",
    "# from keras.callbacks import EarlyStopping\n",
    "# early_stopping = EarlyStopping(monitor='val_loss', patience=2)\n",
    "# fitted_model = model.fit(X_train, y_train, validation_split=0.25, batch_size=32, epochs=15, verbose=1)"
   ]
  },
  {
   "cell_type": "code",
   "execution_count": 1101,
   "metadata": {},
   "outputs": [
    {
     "data": {
      "text/plain": [
       "<matplotlib.legend.Legend at 0xc78d4ea58>"
      ]
     },
     "execution_count": 1101,
     "metadata": {},
     "output_type": "execute_result"
    },
    {
     "data": {
      "image/png": "[encoded data removed]",
      "text/plain": [
       "<Figure size 432x288 with 1 Axes>"
      ]
     },
     "metadata": {},
     "output_type": "display_data"
    },
    {
     "data": {
      "image/png": "[encoded data removed]",
      "text/plain": [
       "<Figure size 432x288 with 1 Axes>"
      ]
     },
     "metadata": {},
     "output_type": "display_data"
    }
   ],
   "source": [
    "import matplotlib.pyplot as plt\n",
    "\n",
    "%matplotlib inline\n",
    "\n",
    "accuracy = history.history['acc']\n",
    "#val_accuracy = history.history['val_acc']\n",
    "loss = history.history['loss']\n",
    "#val_loss = history.history['val_loss']\n",
    "epochs = range(len(accuracy))\n",
    "plt.plot(epochs, accuracy, 'b-', label='Training accuracy')\n",
    "#plt.plot(epochs, val_accuracy, 'b', label='Validation accuracy')\n",
    "plt.title('Training and validation accuracy')\n",
    "plt.legend()\n",
    "plt.figure()\n",
    "plt.plot(epochs, loss, 'r-', label='Training loss')\n",
    "#plt.plot(epochs, val_loss, 'b', label='Validation loss')\n",
    "plt.title('Training and validation loss')\n",
    "plt.legend()\n",
    "# plt.show()"
   ]
  },
  {
   "cell_type": "markdown",
   "metadata": {},
   "source": [
    "## Testing:"
   ]
  },
  {
   "cell_type": "code",
   "execution_count": 1102,
   "metadata": {},
   "outputs": [],
   "source": [
    "predicted_classes = model.predict_classes(X_test)"
   ]
  },
  {
   "cell_type": "code",
   "execution_count": 1103,
   "metadata": {},
   "outputs": [
    {
     "name": "stdout",
     "output_type": "stream",
     "text": [
      "10000/10000 [==============================] - 37s 4ms/step\n",
      "The accuracy is:  0.9173\n"
     ]
    }
   ],
   "source": [
    "# Testing:\n",
    "score = model.evaluate(X_test, y_test, verbose=1)\n",
    "print('The accuracy is: ', score[1])"
   ]
  },
  {
   "cell_type": "code",
   "execution_count": null,
   "metadata": {},
   "outputs": [],
   "source": []
  },
  {
   "cell_type": "code",
   "execution_count": null,
   "metadata": {},
   "outputs": [],
   "source": []
  }
 ],
 "metadata": {
  "kernelspec": {
   "display_name": "Python 3",
   "language": "python",
   "name": "python3"
  },
  "language_info": {
   "codemirror_mode": {
    "name": "ipython",
    "version": 3
   },
   "file_extension": ".py",
   "mimetype": "text/x-python",
   "name": "python",
   "nbconvert_exporter": "python",
   "pygments_lexer": "ipython3",
   "version": "3.6.5"
  }
 },
 "nbformat": 4,
 "nbformat_minor": 2
}
